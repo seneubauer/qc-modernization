{
 "cells": [
  {
   "cell_type": "markdown",
   "id": "622a1da9",
   "metadata": {},
   "source": [
    "## Perform Imports"
   ]
  },
  {
   "cell_type": "code",
   "execution_count": null,
   "id": "d89df432",
   "metadata": {},
   "outputs": [],
   "source": [
    "# import dependencies\n",
    "import pandas as pd\n",
    "from os import listdir\n",
    "from os.path import join, isfile\n",
    "from random import sample"
   ]
  },
  {
   "cell_type": "code",
   "execution_count": null,
   "id": "27ca5e23",
   "metadata": {},
   "outputs": [],
   "source": [
    "# import confidential information\n",
    "from sys import path\n",
    "path.insert(0, \"..\")\n",
    "from config import eir_cleaned_destination_csv"
   ]
  },
  {
   "cell_type": "markdown",
   "id": "aef34dff",
   "metadata": {},
   "source": [
    "## Define Functions"
   ]
  },
  {
   "cell_type": "code",
   "execution_count": null,
   "id": "656534cc",
   "metadata": {},
   "outputs": [],
   "source": [
    "# this function is applied to the metadata's inspector and operator columns\n",
    "def empname_column_str(row: pd.Series) -> None:\n",
    "    \n",
    "    # enfore lower case\n",
    "    item_str = str(row).lower()\n",
    "    \n",
    "    # remove various characters\n",
    "    if \".\" in item_str:\n",
    "        item_str = item_str.replace(\".\", \"\")\n",
    "    if \")\" in item_str:\n",
    "        item_str = item_str.replace(\")\", \"\")\n",
    "    if \"(\" in item_str:\n",
    "        item_str = item_str.replace(\"(\", \"\")\n",
    "    \n",
    "    # remove special characters\n",
    "    if \"(\" in item_str:\n",
    "        item_str = item_str.replace(\"(\", \"\")\n",
    "    if \")\" in item_str:\n",
    "        item_str = item_str.replace(\")\", \"\")\n",
    "    if \"[\" in item_str:\n",
    "        item_str = item_str.replace(\"[\", \"\")\n",
    "    if \"]\" in item_str:\n",
    "        item_str = item_str.replace(\"]\", \"\")\n",
    "    if \"{\" in item_str:\n",
    "        item_str = item_str.replace(\"{\", \"\")\n",
    "    if \"}\" in item_str:\n",
    "        item_str = item_str.replace(\"}\", \"\")\n",
    "    if \"<\" in item_str:\n",
    "        item_str = item_str.replace(\"<\", \"\")\n",
    "    if \">\" in item_str:\n",
    "        item_str = item_str.replace(\">\", \"\")\n",
    "    \n",
    "    # replace special characters\n",
    "    if \"\\\\\" in item_str:\n",
    "        item_str = item_str.replace(\"\\\\\", \",\")\n",
    "    if \"/\" in item_str:\n",
    "        item_str = item_str.replace(\"/\", \",\")\n",
    "    if \" \" in item_str:\n",
    "        item_str = item_str.replace(\" \", \",\")\n",
    "    if \"-\" in item_str:\n",
    "        item_str = item_str.replace(\"-\", \",\")\n",
    "    \n",
    "    # return the value as a list of strings\n",
    "    return [x for x in item_str.split(\",\") if x is not None and len(x) > 0 and x != \".\"]"
   ]
  },
  {
   "cell_type": "code",
   "execution_count": null,
   "id": "9815654b",
   "metadata": {},
   "outputs": [],
   "source": [
    "# this function is applied to the metadata's item number column\n",
    "def column_cleaner_itemnumber(row: pd.Series) -> None:\n",
    "    \n",
    "    # enforce lower case\n",
    "    item_str = str(row)\n",
    "    \n",
    "    # remove white-space characters\n",
    "    item_str = item_str.replace(\" \", \"\")\n",
    "    \n",
    "    # check for and replace delimitor characters with\n",
    "    rpl_chars = [\"\\\\\", \"/\", \"(\", \")\"]\n",
    "    delimitor = \"%\"\n",
    "    for c in rpl_chars:\n",
    "        if c in item_str:\n",
    "            item_str = item_str.replace(c, delimitor)\n",
    "    \n",
    "    if \"%\" in item_str:\n",
    "        return \"|\".join([x for x in item_str.split(delimitor) if x is not None and len(x) > 0])\n",
    "    else:\n",
    "        return item_str"
   ]
  },
  {
   "cell_type": "markdown",
   "id": "2a81c98d",
   "metadata": {},
   "source": [
    "## Read Raw Data"
   ]
  },
  {
   "cell_type": "code",
   "execution_count": null,
   "id": "fc367adf",
   "metadata": {},
   "outputs": [],
   "source": [
    "# read the two dataframes from csv\n",
    "raw_metadata_df = pd.read_csv(join(eir_cleaned_destination_csv, \"raw_metadata.csv\"), low_memory = False)\n",
    "raw_measurements_df = pd.read_csv(join(eir_cleaned_destination_csv, \"raw_measurements.csv\"), low_memory = False)"
   ]
  },
  {
   "cell_type": "markdown",
   "id": "45aa3cb9",
   "metadata": {},
   "source": [
    "## Explore the Datasets"
   ]
  },
  {
   "cell_type": "markdown",
   "id": "d267c9ee",
   "metadata": {},
   "source": [
    "#### Show Unique Filtered Quantities"
   ]
  },
  {
   "cell_type": "code",
   "execution_count": null,
   "id": "b435df2b",
   "metadata": {},
   "outputs": [],
   "source": [
    "# inconsistencies to look out for...\n",
    "# spaces\n",
    "# braces {}\n",
    "# brackets []\n",
    "# parentheses ()\n",
    "# backslash \\\\\n",
    "# forwardslash /\n",
    "# comma ,\n",
    "# dashes -\n",
    "# equals =\n",
    "# periods .\n",
    "# pipes |\n",
    "characters = [\" \", \"{\", \"}\", \"[\", \"]\", \"(\", \")\", \"<\", \">\", \"\\\\\", \"/\", \",\", \"=\", \".\", \"|\"]\n",
    "\n",
    "# remove rows where the 'drawing' contains certain characters\n",
    "red_metadata_df = raw_metadata_df.loc[\n",
    "    (raw_metadata_df[\"drawing\"].str.contains(\" \") == False),:\n",
    "]\n",
    "\n",
    "# apply column functions\n",
    "adj_metadata_df.loc[:, [\"item_number\"]] = red_metadata_df[\"item_number\"].apply(column_cleaner_itemnumber)\n",
    "\n",
    "print(f\"Rows Lost: {len(raw_metadata_df) - len(adj_metadata_df)}\")\n",
    "\n",
    "# show all unique items in the columns\n",
    "for column in adj_metadata_df.columns:\n",
    "    my_list = [x for x in adj_metadata_df[column].unique() if any(i in str(x) for i in characters)]\n",
    "    print(\"\")\n",
    "    print(f\"----- {column}: {len(my_list)} -----\")\n",
    "    for item in my_list:\n",
    "        print(str(item))"
   ]
  },
  {
   "cell_type": "code",
   "execution_count": null,
   "id": "2e0d8fef",
   "metadata": {},
   "outputs": [],
   "source": []
  }
 ],
 "metadata": {
  "kernelspec": {
   "display_name": "Python 3 (ipykernel)",
   "language": "python",
   "name": "python3"
  },
  "language_info": {
   "codemirror_mode": {
    "name": "ipython",
    "version": 3
   },
   "file_extension": ".py",
   "mimetype": "text/x-python",
   "name": "python",
   "nbconvert_exporter": "python",
   "pygments_lexer": "ipython3",
   "version": "3.8.13"
  },
  "vscode": {
   "interpreter": {
    "hash": "710397a8b05bc88245849d7f654cb110c8cd4ff861987adecb762b535430a3ce"
   }
  }
 },
 "nbformat": 4,
 "nbformat_minor": 5
}
