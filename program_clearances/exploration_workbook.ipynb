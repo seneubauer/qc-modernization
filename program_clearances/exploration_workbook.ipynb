{
 "cells": [
  {
   "cell_type": "markdown",
   "id": "204b4adb",
   "metadata": {},
   "source": [
    "## Perform Imports"
   ]
  },
  {
   "cell_type": "code",
   "execution_count": null,
   "id": "1b1f97db",
   "metadata": {},
   "outputs": [],
   "source": [
    "# import dependencies\n",
    "from bs4 import BeautifulSoup\n",
    "from os.path import join\n",
    "from math import sin, cos, pi"
   ]
  },
  {
   "cell_type": "code",
   "execution_count": null,
   "id": "a9687bf5",
   "metadata": {},
   "outputs": [],
   "source": [
    "# import confidential information\n",
    "from sys import path\n",
    "path.insert(0, \"..\")\n",
    "from config import pc_raw_export\n",
    "from reference_values import probe_dict"
   ]
  },
  {
   "cell_type": "markdown",
   "id": "19a15a6c",
   "metadata": {},
   "source": [
    "## Define Functions"
   ]
  },
  {
   "cell_type": "markdown",
   "id": "efa49140",
   "metadata": {},
   "source": [
    "## Read Raw Data"
   ]
  },
  {
   "cell_type": "code",
   "execution_count": null,
   "id": "3efa61b0",
   "metadata": {},
   "outputs": [],
   "source": [
    "xml_file_path = join(pc_raw_export, \"7005132 - A.xml\")\n",
    "\n",
    "# open the xml file\n",
    "with open(xml_file_path, \"r\", encoding = \"utf-8\") as file:\n",
    "    file_contents = file.read()\n",
    "\n",
    "# create the beautifulsoup object\n",
    "bs = BeautifulSoup(file_contents, \"xml\")"
   ]
  },
  {
   "cell_type": "code",
   "execution_count": null,
   "id": "592e2b8a",
   "metadata": {},
   "outputs": [],
   "source": [
    "# initialize the output dictionary\n",
    "output_dict = {\n",
    "    \"drawing\": \"empty\",\n",
    "    \"revision\": \"empty\",\n",
    "    \"fixture\": \"empty\",\n",
    "    \"nx\": 0,\n",
    "    \"py\": 0,\n",
    "    \"px\": 0,\n",
    "    \"ny\": 0\n",
    "}"
   ]
  },
  {
   "cell_type": "code",
   "execution_count": null,
   "id": "242d2413",
   "metadata": {},
   "outputs": [],
   "source": [
    "# get a list of all the command features\n",
    "feature_list = bs.find_all(\"Command\")\n",
    "\n",
    "# initialize parameters\n",
    "current_probe = \"\"\n",
    "probe_length = 0.0\n",
    "final_measurement = False\n",
    "measurement_index = 0\n",
    "measurement_count = len([x for x in feature_list if \"(CONTACT)\" in str(x)])\n",
    "\n",
    "# extract elements\n",
    "for feature in feature_list:\n",
    "    feature_type = str(feature.get(\"Type\"))\n",
    "    if feature_type == \"File Header\":\n",
    "        output_dict[\"drawing\"] = str(feature.find_all(\"DataField\")[0].get(\"Value\"))\n",
    "        output_dict[\"revision\"] = str(feature.find_all(\"DataField\")[1].get(\"Value\"))\n",
    "    elif feature_type == \"Recall Alignment\":\n",
    "        output_dict[\"fixture\"] = str(feature.find_all(\"DataField\")[2].get(\"Value\"))\n",
    "    elif feature_type == \"Load Probe\":\n",
    "        current_probe = str(feature.find(\"DataField\").get(\"Value\"))\n",
    "        probe_length = probe_dict[current_probe]\n",
    "    elif feature_type == \"Set Active Tip\":\n",
    "        tip_str = str(feature.find_all(\"DataField\")[0].get(\"Value\"))\n",
    "        A, B = [float(x) * pi / 180 for x in tip_str[3:].split(\"B\")]\n",
    "        \n",
    "        distance = probe_length * sin(A)\n",
    "        dist_x = round(distance * sin(B), 4)\n",
    "        dist_y = round(-distance * cos(B), 4)\n",
    "        \n",
    "        if dist_x >= 0:\n",
    "            if output_dict[\"nx\"] < abs(dist_x):\n",
    "                output_dict[\"nx\"] = abs(dist_x)\n",
    "        else:\n",
    "            if output_dict[\"px\"] < abs(dist_x):\n",
    "                output_dict[\"px\"] = abs(dist_x)\n",
    "        if dist_y >= 0:\n",
    "            if output_dict[\"ny\"] < abs(dist_y):\n",
    "                output_dict[\"ny\"] = abs(dist_y)\n",
    "        else:\n",
    "            if output_dict[\"py\"] < abs(dist_y):\n",
    "                output_dict[\"py\"] = abs(dist_y)\n",
    "        \n",
    "    elif \"(CONTACT)\" in feature_type:\n",
    "        measurement_index += 1\n",
    "        if measurement_index == measurement_count:\n",
    "            break\n",
    "\n",
    "output_dict"
   ]
  },
  {
   "cell_type": "markdown",
   "id": "1b1c551d",
   "metadata": {},
   "source": [
    "## Explore the Datasets"
   ]
  }
 ],
 "metadata": {
  "kernelspec": {
   "display_name": "Python 3 (ipykernel)",
   "language": "python",
   "name": "python3"
  },
  "language_info": {
   "codemirror_mode": {
    "name": "ipython",
    "version": 3
   },
   "file_extension": ".py",
   "mimetype": "text/x-python",
   "name": "python",
   "nbconvert_exporter": "python",
   "pygments_lexer": "ipython3",
   "version": "3.8.13"
  }
 },
 "nbformat": 4,
 "nbformat_minor": 5
}
